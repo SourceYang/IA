{
 "cells": [
  {
   "cell_type": "markdown",
   "id": "6e61729e",
   "metadata": {},
   "source": [
    "a number of (input_dimension + output_dimension) * 10 data is a good start\n",
    "\n",
    "a number of sqrt(input_dimsension * output_dimension) or (input_dim + output_dim) / 2 neurons are good starting tries"
   ]
  },
  {
   "cell_type": "code",
   "execution_count": 1,
   "id": "44fec856",
   "metadata": {},
   "outputs": [],
   "source": [
    "import model\n",
    "import torch\n",
    "import numpy as np"
   ]
  },
  {
   "cell_type": "code",
   "execution_count": 2,
   "id": "1aaaeb73",
   "metadata": {},
   "outputs": [],
   "source": [
    "X = np.load(\"toy_data/inputs_constant.npy\")\n",
    "X = torch.tensor(X)\n",
    "Y = np.load(\"toy_data/outputs_constant.npy\")\n",
    "Y = torch.tensor(Y)"
   ]
  },
  {
   "cell_type": "code",
   "execution_count": 3,
   "id": "74b124a1",
   "metadata": {},
   "outputs": [],
   "source": [
    "perm = torch.randperm(X.size(0))\n",
    "X_shuffled = X[perm]\n",
    "Y_shuffled = Y[perm]"
   ]
  },
  {
   "cell_type": "code",
   "execution_count": 4,
   "id": "fd0606b6",
   "metadata": {},
   "outputs": [],
   "source": [
    "N = X_shuffled.size(0)\n",
    "\n",
    "train_idx = int(0.8 * N)\n",
    "val_idx = int(0.9 * N)\n",
    "\n",
    "X_train = X_shuffled[:train_idx]\n",
    "Y_train = Y_shuffled[:train_idx]\n",
    "\n",
    "X_val = X_shuffled[train_idx:val_idx]\n",
    "Y_val = Y_shuffled[train_idx:val_idx]\n",
    "\n",
    "X_test = X_shuffled[val_idx:]\n",
    "Y_test = Y_shuffled[val_idx:]"
   ]
  },
  {
   "cell_type": "code",
   "execution_count": 5,
   "id": "f65f7d70",
   "metadata": {},
   "outputs": [],
   "source": [
    "X_train_reshape = X_train.t()\n",
    "Y_train_reshape = Y_train.view(Y_train.size(0), -1).t()\n",
    "\n",
    "X_val_reshape = X_val.t()\n",
    "Y_val_reshape = Y_val.view(Y_val.size(0), -1).t()\n",
    "\n",
    "X_test_reshape = X_test.t()\n",
    "Y_test_reshape = Y_test.view(Y_test.size(0), -1).t()"
   ]
  },
  {
   "cell_type": "code",
   "execution_count": 6,
   "id": "c35cd9c6",
   "metadata": {},
   "outputs": [],
   "source": [
    "input_layer_size = 2\n",
    "output_layer_size = 3 * 14\n",
    "\n",
    "hidden_layers = [22, 15, 9]\n",
    "\n",
    "layers_dims = [input_layer_size] + hidden_layers + [output_layer_size]"
   ]
  },
  {
   "cell_type": "code",
   "execution_count": 7,
   "id": "2e520cbc",
   "metadata": {},
   "outputs": [
    {
     "name": "stdout",
     "output_type": "stream",
     "text": [
      "Cost after epoch 0: 1620.573044\n",
      "Cost after epoch 1000: 0.758188\n",
      "Cost after epoch 2000: 0.777205\n",
      "Cost after epoch 3000: 0.770490\n",
      "Cost after epoch 4000: 0.756875\n"
     ]
    },
    {
     "data": {
      "image/png": "[encoded data removed]",
      "text/plain": [
       "<Figure size 432x288 with 1 Axes>"
      ]
     },
     "metadata": {
      "needs_background": "light"
     },
     "output_type": "display_data"
    }
   ],
   "source": [
    "params = model.model(X_train_reshape, Y_train_reshape, layers_dims, 0.01)"
   ]
  },
  {
   "cell_type": "code",
   "execution_count": 8,
   "id": "9ccaf113",
   "metadata": {},
   "outputs": [],
   "source": [
    "Y_predict = model.predict(params, X_val_reshape)"
   ]
  },
  {
   "cell_type": "code",
   "execution_count": 11,
   "id": "13717bc7",
   "metadata": {},
   "outputs": [
    {
     "data": {
      "text/plain": [
       "tensor(46.9298, dtype=torch.float64)"
      ]
     },
     "execution_count": 11,
     "metadata": {},
     "output_type": "execute_result"
    }
   ],
   "source": [
    "model.compute_cost(Y_predict, Y_val_reshape, params, 0)"
   ]
  },
  {
   "cell_type": "code",
   "execution_count": null,
   "id": "92f12bb0",
   "metadata": {},
   "outputs": [],
   "source": []
  }
 ],
 "metadata": {
  "kernelspec": {
   "display_name": "Python 3 (ipykernel)",
   "language": "python",
   "name": "python3"
  },
  "language_info": {
   "codemirror_mode": {
    "name": "ipython",
    "version": 3
   },
   "file_extension": ".py",
   "mimetype": "text/x-python",
   "name": "python",
   "nbconvert_exporter": "python",
   "pygments_lexer": "ipython3",
   "version": "3.9.12"
  }
 },
 "nbformat": 4,
 "nbformat_minor": 5
}
